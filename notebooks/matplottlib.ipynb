{
 "cells": [
  {
   "cell_type": "markdown",
   "id": "cb7e910a",
   "metadata": {},
   "source": [
    "# Jupyter Notebook for Customer Data Visualizations\n"
   ]
  },
  {
   "cell_type": "code",
   "execution_count": null,
   "id": "aea1301b",
   "metadata": {},
   "outputs": [],
   "source": [
    "import matplotlib.pyplot as plt\n",
    "import pandas as pd\n",
    "import numpy as np"
   ]
  },
  {
   "cell_type": "code",
   "execution_count": null,
   "id": "ef2a7ead",
   "metadata": {},
   "outputs": [],
   "source": [
    "# Create or load your dataframe here\n",
    "# For demonstration, we'll create a sample dataframe\n",
    "np.random.seed(42)\n",
    "data = {\n",
    "    'Age': np.random.randint(18, 70, 100),\n",
    "    'Category': np.random.choice(['Electronics', 'Clothing', 'Home', 'Beauty'], 100),\n",
    "    'Purchase Amount (USD)': np.random.uniform(10, 500, 100).round(2),\n",
    "    'Payment Method': np.random.choice(['Credit Card', 'Debit Card', 'PayPal', 'Cash'], 100),\n",
    "    'Review Rating': np.random.uniform(1, 5, 100).round(1),\n",
    "    'Gender': np.random.choice(['Male', 'Female'], 100),\n",
    "    'Season': np.random.choice(['Winter', 'Spring', 'Summer', 'Fall'], 100),\n",
    "    'Previous Purchases': np.random.randint(1, 20, 100),\n",
    "    'Subscription Status': np.random.choice(['Yes', 'No'], 100),\n",
    "    'Frequency of Purchases': np.random.choice(['Weekly', 'Monthly', 'Quarterly', 'Annually'], 100)\n",
    "}\n"
   ]
  },
  {
   "cell_type": "code",
   "execution_count": null,
   "id": "795a9695",
   "metadata": {},
   "outputs": [],
   "source": [
    "df = pd.DataFrame(data)"
   ]
  },
  {
   "cell_type": "markdown",
   "id": "ffe8d01a",
   "metadata": {},
   "source": [
    "## Visualization 1: Age Distribution"
   ]
  },
  {
   "cell_type": "code",
   "execution_count": null,
   "id": "e8603934",
   "metadata": {},
   "outputs": [],
   "source": [
    "plt.figure(figsize=(10, 6))\n",
    "plt.hist(df['Age'].values, bins=20, edgecolor='black', color='skyblue')\n",
    "plt.title('Age Distribution of Customers')\n",
    "plt.xlabel('Age')\n",
    "plt.ylabel('Count')\n",
    "plt.show()"
   ]
  },
  {
   "cell_type": "markdown",
   "id": "eabf41c8",
   "metadata": {},
   "source": [
    "## Visualization 2: Purchase Amount by Category"
   ]
  },
  {
   "cell_type": "code",
   "execution_count": null,
   "id": "2f4b8c6c",
   "metadata": {},
   "outputs": [],
   "source": [
    "plt.figure(figsize=(10, 6))\n",
    "category_means = df.groupby('Category')['Purchase Amount (USD)'].mean().sort_values()\n",
    "plt.barh(category_means.index, category_means.values, color='skyblue', edgecolor='black')\n",
    "plt.title('Average Purchase Amount by Category')\n",
    "plt.xlabel('Average Purchase Amount (USD)')\n",
    "plt.ylabel('Category')\n",
    "plt.show()\n"
   ]
  },
  {
   "cell_type": "markdown",
   "id": "f84847c4",
   "metadata": {},
   "source": [
    "## Visualization 3: Payment Method Distribution"
   ]
  },
  {
   "cell_type": "code",
   "execution_count": null,
   "id": "4e9bc2c5",
   "metadata": {},
   "outputs": [],
   "source": [
    "plt.figure(figsize=(8, 6))\n",
    "payment_counts = df['Payment Method'].value_counts()\n",
    "plt.pie(payment_counts, labels=payment_counts.index, autopct='%1.1f%%')\n",
    "plt.title('Payment Method Distribution')\n",
    "plt.show()\n"
   ]
  },
  {
   "cell_type": "markdown",
   "id": "615bb92b",
   "metadata": {},
   "source": [
    "## Visualization 4: Purchase Amount vs. Review Rating"
   ]
  },
  {
   "cell_type": "code",
   "execution_count": null,
   "id": "bc15055a",
   "metadata": {},
   "outputs": [],
   "source": [
    "plt.figure(figsize=(10, 6))\n",
    "plt.scatter(df['Purchase Amount (USD)'], df['Review Rating'], alpha=0.5)\n",
    "plt.title('Purchase Amount vs. Review Rating')\n",
    "plt.xlabel('Purchase Amount (USD)')\n",
    "plt.ylabel('Review Rating')\n",
    "plt.show()\n"
   ]
  },
  {
   "cell_type": "markdown",
   "id": "9ea5c202",
   "metadata": {},
   "source": [
    "## Visualization 5: Gender Distribution"
   ]
  },
  {
   "cell_type": "code",
   "execution_count": null,
   "id": "d24ee566",
   "metadata": {},
   "outputs": [],
   "source": [
    "plt.figure(figsize=(8, 6))\n",
    "gender_counts = df['Gender'].value_counts()\n",
    "plt.bar(gender_counts.index, gender_counts.values, color=['skyblue', 'lightcoral'])\n",
    "plt.title('Gender Distribution of Customers')\n",
    "plt.xlabel('Gender')\n",
    "plt.ylabel('Count')\n",
    "plt.show()"
   ]
  },
  {
   "cell_type": "markdown",
   "id": "faaec964",
   "metadata": {},
   "source": [
    "## Visualization 6: Seasonal Purchase Trends"
   ]
  },
  {
   "cell_type": "code",
   "execution_count": null,
   "id": "7530ed87",
   "metadata": {},
   "outputs": [],
   "source": [
    "plt.figure(figsize=(10, 6))\n",
    "season_means = df.groupby('Season')['Purchase Amount (USD)'].mean()\n",
    "seasons = ['Winter', 'Spring', 'Summer', 'Fall']\n",
    "season_means = season_means.reindex(seasons, fill_value=0)\n",
    "plt.plot(season_means.index, season_means.values, marker='o', color='green')\n",
    "plt.title('Average Purchase Amount by Season')\n",
    "plt.xlabel('Season')\n",
    "plt.ylabel('Average Purchase Amount (USD)')\n",
    "plt.grid(True)\n",
    "plt.show()\n"
   ]
  },
  {
   "cell_type": "markdown",
   "id": "a568845a",
   "metadata": {},
   "source": [
    "## Visualization 7: Previous Purchases vs Age"
   ]
  },
  {
   "cell_type": "code",
   "execution_count": null,
   "id": "6f1ced65",
   "metadata": {},
   "outputs": [],
   "source": [
    "plt.figure(figsize=(10, 6))\n",
    "plt.scatter(df['Age'], df['Previous Purchases'], alpha=0.6, color='purple')\n",
    "plt.title('Previous Purchases by Age')\n",
    "plt.xlabel('Age')\n",
    "plt.ylabel('Number of Previous Purchases')\n",
    "plt.grid(True)\n",
    "plt.show()"
   ]
  },
  {
   "cell_type": "markdown",
   "id": "bb18c1b6",
   "metadata": {},
   "source": [
    "## Visualization 8: Subscription Status Impact on Purchase Amount"
   ]
  },
  {
   "cell_type": "code",
   "execution_count": null,
   "id": "516ca10b",
   "metadata": {},
   "outputs": [],
   "source": [
    "plt.figure(figsize=(8, 6))\n",
    "subscription_means = df.groupby('Subscription Status')['Purchase Amount (USD)'].mean()\n",
    "subscription_means.plot(kind='bar', color=['lightgreen', 'salmon'])\n",
    "plt.title('Average Purchase Amount by Subscription Status')\n",
    "plt.xlabel('Subscription Status')\n",
    "plt.ylabel('Average Purchase Amount (USD)')\n",
    "plt.xticks(rotation=0)\n",
    "plt.show()\n"
   ]
  },
  {
   "cell_type": "markdown",
   "id": "169f120b",
   "metadata": {},
   "source": [
    "## Visualization 9: Frequency of Purchases Distribution"
   ]
  },
  {
   "cell_type": "code",
   "execution_count": null,
   "id": "da203223",
   "metadata": {},
   "outputs": [],
   "source": [
    "plt.figure(figsize=(10, 6))\n",
    "freq_counts = df['Frequency of Purchases'].value_counts()\n",
    "freq_counts.plot(kind='bar', color='teal')\n",
    "plt.title('Frequency of Purchases Distribution')\n",
    "plt.xlabel('Purchase Frequency')\n",
    "plt.ylabel('Count')\n",
    "plt.xticks(rotation=45)\n",
    "plt.show()"
   ]
  }
 ],
 "metadata": {
  "language_info": {
   "name": "python"
  }
 },
 "nbformat": 4,
 "nbformat_minor": 5
}
