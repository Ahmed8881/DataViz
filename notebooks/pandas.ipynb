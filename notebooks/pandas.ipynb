{
 "cells": [
  {
   "cell_type": "markdown",
   "id": "b2bdabb2",
   "metadata": {},
   "source": [
    "# Jupyter Notebook for Pandas \n"
   ]
  },
  {
   "cell_type": "code",
   "execution_count": null,
   "id": "d7072d74",
   "metadata": {},
   "outputs": [],
   "source": [
    "import pandas as pd\n",
    "import matplotlib.pyplot as plt\n",
    "import numpy as np"
   ]
  },
  {
   "cell_type": "markdown",
   "id": "65f0efa3",
   "metadata": {},
   "source": [
    "##### Create sample data"
   ]
  },
  {
   "cell_type": "code",
   "execution_count": null,
   "id": "ea504676",
   "metadata": {},
   "outputs": [],
   "source": [
    "np.random.seed(42)"
   ]
  }
 ],
 "metadata": {
  "language_info": {
   "name": "python"
  }
 },
 "nbformat": 4,
 "nbformat_minor": 5
}
